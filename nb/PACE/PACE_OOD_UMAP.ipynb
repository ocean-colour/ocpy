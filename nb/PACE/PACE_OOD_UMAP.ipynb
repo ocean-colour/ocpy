{
 "cells": [
  {
   "cell_type": "markdown",
   "id": "840bd9f9-e283-4829-aacd-e585280cf69f",
   "metadata": {},
   "source": [
    "# PACE OOD UMAP"
   ]
  },
  {
   "cell_type": "code",
   "execution_count": 1,
   "id": "27f7b85a-d214-46d9-8e3c-07c398461305",
   "metadata": {},
   "outputs": [],
   "source": [
    "# imports\n",
    "from importlib import reload\n",
    "import numpy as np\n",
    "import os\n",
    "\n",
    "import h5py\n",
    "import xarray\n",
    "\n",
    "from scipy.spatial import Delaunay\n",
    "from sklearn import decomposition\n",
    "import umap\n",
    "\n",
    "from matplotlib import pyplot as plt\n",
    "\n",
    "from oceancolor.pace import io as pace_io\n",
    "from oceancolor.hydrolight import loisel23\n",
    "from oceancolor.utils import spectra\n",
    "from oceancolor.utils import pca"
   ]
  },
  {
   "cell_type": "markdown",
   "id": "b28e2611-e791-4211-a7ae-065b89f701ba",
   "metadata": {},
   "source": [
    "# Load"
   ]
  },
  {
   "cell_type": "markdown",
   "id": "af9a0d8c-d64f-459a-bfa0-c45769873b21",
   "metadata": {},
   "source": [
    "## PACE"
   ]
  },
  {
   "cell_type": "code",
   "execution_count": 2,
   "id": "70c4995a-801c-4ff6-8396-479afc19c053",
   "metadata": {},
   "outputs": [],
   "source": [
    "ex_pace_file = os.path.join(os.getenv('OS_COLOR'),\n",
    "                       'data', 'PACE', 'early',\n",
    "                       'PACE_OCI.20240416T093158.L2.OC_AOP.V1_0_0.NRT.nc')"
   ]
  },
  {
   "cell_type": "code",
   "execution_count": 4,
   "id": "5fe25529-5a93-4a26-9247-6b2abaf628a6",
   "metadata": {},
   "outputs": [],
   "source": [
    "pace_xds, flags = pace_io.load_oci_l2(ex_pace_file)"
   ]
  },
  {
   "cell_type": "markdown",
   "id": "9748ba55-8eb2-42e7-888e-dd2b0c8e58a8",
   "metadata": {},
   "source": [
    "## Loisel+2023"
   ]
  },
  {
   "cell_type": "code",
   "execution_count": 5,
   "id": "f189af77-111e-4168-b8a8-c7fe5046743d",
   "metadata": {},
   "outputs": [],
   "source": [
    "X, Y = 4, 0\n",
    "l23_ds = loisel23.load_ds(X, Y)"
   ]
  },
  {
   "cell_type": "code",
   "execution_count": 6,
   "id": "abe10140-0f89-4af6-9c99-bf9e1a48ff44",
   "metadata": {},
   "outputs": [
    {
     "data": {
      "text/plain": [
       "array([350., 355., 360., 365., 370., 375., 380., 385., 390., 395., 400.,\n",
       "       405., 410., 415., 420., 425., 430., 435., 440., 445., 450., 455.,\n",
       "       460., 465., 470., 475., 480., 485., 490., 495., 500., 505., 510.,\n",
       "       515., 520., 525., 530., 535., 540., 545., 550., 555., 560., 565.,\n",
       "       570., 575., 580., 585., 590., 595., 600., 605., 610., 615., 620.,\n",
       "       625., 630., 635., 640., 645., 650., 655., 660., 665., 670., 675.,\n",
       "       680., 685., 690., 695., 700., 705., 710., 715., 720., 725., 730.,\n",
       "       735., 740., 745., 750.], dtype=float32)"
      ]
     },
     "execution_count": 6,
     "metadata": {},
     "output_type": "execute_result"
    }
   ],
   "source": [
    "l23_ds.Lambda.data"
   ]
  },
  {
   "cell_type": "code",
   "execution_count": 7,
   "id": "c0e6dc17-7310-4d71-8a24-e959ca1e450a",
   "metadata": {},
   "outputs": [
    {
     "data": {
      "text/plain": [
       "(3320, 81)"
      ]
     },
     "execution_count": 7,
     "metadata": {},
     "output_type": "execute_result"
    }
   ],
   "source": [
    "l23_Rrs = l23_ds.Rrs.data\n",
    "l23_Rrs.shape"
   ]
  },
  {
   "cell_type": "markdown",
   "id": "3e6b5e75-2dcb-4491-99b4-a43b90ab8519",
   "metadata": {},
   "source": [
    "# Pre-Process"
   ]
  },
  {
   "cell_type": "markdown",
   "id": "e763d0b5-12a5-4bc2-8770-9a779dd29dc9",
   "metadata": {},
   "source": [
    "## PACE"
   ]
  },
  {
   "cell_type": "markdown",
   "id": "a1be9e15-4b71-4e3e-b3d6-2ab9fb37be08",
   "metadata": {},
   "source": [
    "### Grab the ok set"
   ]
  },
  {
   "cell_type": "code",
   "execution_count": 8,
   "id": "347801e6-5522-409e-808f-846015fb35d4",
   "metadata": {},
   "outputs": [],
   "source": [
    "pace_keep = flags == 0"
   ]
  },
  {
   "cell_type": "code",
   "execution_count": 9,
   "id": "156a0b92-e16d-4e6a-b0a7-4a7e01a1e9b4",
   "metadata": {},
   "outputs": [],
   "source": [
    "pace_Rrs = pace_xds.Rrs.data[pace_keep]"
   ]
  },
  {
   "cell_type": "code",
   "execution_count": 10,
   "id": "33278d08-cba9-4b62-b949-0c012d9c9152",
   "metadata": {},
   "outputs": [
    {
     "data": {
      "text/plain": [
       "(506051, 184)"
      ]
     },
     "execution_count": 10,
     "metadata": {},
     "output_type": "execute_result"
    }
   ],
   "source": [
    "pace_Rrs.shape"
   ]
  },
  {
   "cell_type": "markdown",
   "id": "70087848-0afe-4237-b107-6c6ca703fbb1",
   "metadata": {},
   "source": [
    "## Cut down wavelengths"
   ]
  },
  {
   "cell_type": "code",
   "execution_count": 11,
   "id": "a1100372-0039-42ed-ba64-d7da8da2667f",
   "metadata": {},
   "outputs": [],
   "source": [
    "min_wv = 400.\n",
    "gd_wave = (pace_xds.wavelength >= min_wv)\n",
    "pace_wave = pace_xds.wavelength[gd_wave]"
   ]
  },
  {
   "cell_type": "code",
   "execution_count": 12,
   "id": "627823bb-1328-4435-a3f1-598291e6c353",
   "metadata": {},
   "outputs": [],
   "source": [
    "pace_Rrs = pace_Rrs[:, gd_wave]"
   ]
  },
  {
   "cell_type": "code",
   "execution_count": 13,
   "id": "928f84fd-d37b-492b-8a20-87447b13c2ca",
   "metadata": {},
   "outputs": [
    {
     "data": {
      "text/plain": [
       "(506051, 159)"
      ]
     },
     "execution_count": 13,
     "metadata": {},
     "output_type": "execute_result"
    }
   ],
   "source": [
    "pace_Rrs.shape"
   ]
  },
  {
   "cell_type": "markdown",
   "id": "b4b86cbe-b73f-4417-828a-0ea91ef0edf1",
   "metadata": {},
   "source": [
    "## L23"
   ]
  },
  {
   "cell_type": "markdown",
   "id": "a42aaf92-b3e9-4c7b-9c2c-0813ac2f629f",
   "metadata": {},
   "source": [
    "## Rebin to PACE wavelengths"
   ]
  },
  {
   "cell_type": "code",
   "execution_count": 14,
   "id": "c435de30-a13d-46e3-ac98-e3113d9036c9",
   "metadata": {},
   "outputs": [],
   "source": [
    "#wave_bins = (np.roll(pace_wave,-1) + pace_wave)/2.\n",
    "## Edge\n",
    "#wave_bins[-1] = pace_wave[-1] + (pace_wave[-1]-pace_wave[-2])/2.\n",
    "#wave0 = pace_wave[0] - (pace_wave[1]-pace_wave[0])/2.\n",
    "## Add the first\n",
    "#wave_bins = np.append([wave0], wave_bins)\n",
    "#wave_bins"
   ]
  },
  {
   "cell_type": "code",
   "execution_count": 15,
   "id": "b445af6f-4ea6-427a-95d1-3e716447de42",
   "metadata": {},
   "outputs": [
    {
     "data": {
      "text/plain": [
       "(3320, 81)"
      ]
     },
     "execution_count": 15,
     "metadata": {},
     "output_type": "execute_result"
    }
   ],
   "source": [
    "l23_Rrs.shape"
   ]
  },
  {
   "cell_type": "code",
   "execution_count": 16,
   "id": "91bcb0f1-8266-4789-9872-1844a62cbee7",
   "metadata": {},
   "outputs": [],
   "source": [
    "rebin_l23 = np.zeros((l23_Rrs.shape[0], pace_wave.size))"
   ]
  },
  {
   "cell_type": "code",
   "execution_count": 18,
   "id": "7c3760b6-ea9b-4806-9d53-fb36a3c5b2ff",
   "metadata": {},
   "outputs": [],
   "source": [
    "#\n",
    "for kk in range(rebin_l23.shape[0]):\n",
    "    rebin_l23[kk,:], _ = spectra.rebin(l23_ds.Lambda.data, l23_Rrs[kk], pace_wave)"
   ]
  },
  {
   "cell_type": "markdown",
   "id": "df556aef-8689-47d9-a9fd-f6790b30cabc",
   "metadata": {},
   "source": [
    "## UMAP L23"
   ]
  },
  {
   "cell_type": "code",
   "execution_count": 20,
   "id": "6c12285c-3edf-471b-92b5-3810c559c7b4",
   "metadata": {},
   "outputs": [
    {
     "name": "stderr",
     "output_type": "stream",
     "text": [
      "/home/xavier/miniconda3/envs/os_11/lib/python3.11/site-packages/umap/umap_.py:1943: UserWarning: n_jobs value -1 overridden to 1 by setting random_state. Use no seed for parallelism.\n",
      "  warn(f\"n_jobs value {self.n_jobs} overridden to 1 by setting random_state. Use no seed for parallelism.\")\n"
     ]
    }
   ],
   "source": [
    "reducer_umap = umap.UMAP(random_state=42)\n",
    "latents_mapping = reducer_umap.fit(rebin_l23)"
   ]
  },
  {
   "cell_type": "markdown",
   "id": "39fcea09-cbbf-4ac8-997b-0461e8df5b10",
   "metadata": {},
   "source": [
    "# Embed"
   ]
  },
  {
   "cell_type": "code",
   "execution_count": 21,
   "id": "8cae50f1-3b47-4076-8970-42417287a2b2",
   "metadata": {},
   "outputs": [],
   "source": [
    "l23_embedding = latents_mapping.transform(rebin_l23)"
   ]
  },
  {
   "cell_type": "code",
   "execution_count": 22,
   "id": "b25209d8-78ea-43c2-b9b4-290019cb9f15",
   "metadata": {},
   "outputs": [
    {
     "ename": "KeyboardInterrupt",
     "evalue": "",
     "output_type": "error",
     "traceback": [
      "\u001b[0;31m---------------------------------------------------------------------------\u001b[0m",
      "\u001b[0;31mKeyboardInterrupt\u001b[0m                         Traceback (most recent call last)",
      "Cell \u001b[0;32mIn[22], line 1\u001b[0m\n\u001b[0;32m----> 1\u001b[0m pace_embedding \u001b[38;5;241m=\u001b[39m \u001b[43mlatents_mapping\u001b[49m\u001b[38;5;241;43m.\u001b[39;49m\u001b[43mtransform\u001b[49m\u001b[43m(\u001b[49m\u001b[43mpace_Rrs\u001b[49m\u001b[43m)\u001b[49m\n",
      "File \u001b[0;32m~/miniconda3/envs/os_11/lib/python3.11/site-packages/umap/umap_.py:2988\u001b[0m, in \u001b[0;36mUMAP.transform\u001b[0;34m(self, X, force_all_finite)\u001b[0m\n\u001b[1;32m   2985\u001b[0m \u001b[38;5;28;01mtry\u001b[39;00m:\n\u001b[1;32m   2986\u001b[0m     \u001b[38;5;66;03m# sklearn pairwise_distances fails for callable metric on sparse data\u001b[39;00m\n\u001b[1;32m   2987\u001b[0m     _m \u001b[38;5;241m=\u001b[39m \u001b[38;5;28mself\u001b[39m\u001b[38;5;241m.\u001b[39mmetric \u001b[38;5;28;01mif\u001b[39;00m \u001b[38;5;28mself\u001b[39m\u001b[38;5;241m.\u001b[39m_sparse_data \u001b[38;5;28;01melse\u001b[39;00m \u001b[38;5;28mself\u001b[39m\u001b[38;5;241m.\u001b[39m_input_distance_func\n\u001b[0;32m-> 2988\u001b[0m     dmat \u001b[38;5;241m=\u001b[39m \u001b[43mpairwise_distances\u001b[49m\u001b[43m(\u001b[49m\n\u001b[1;32m   2989\u001b[0m \u001b[43m        \u001b[49m\u001b[43mX\u001b[49m\u001b[43m,\u001b[49m\u001b[43m \u001b[49m\u001b[38;5;28;43mself\u001b[39;49m\u001b[38;5;241;43m.\u001b[39;49m\u001b[43m_raw_data\u001b[49m\u001b[43m,\u001b[49m\u001b[43m \u001b[49m\u001b[43mmetric\u001b[49m\u001b[38;5;241;43m=\u001b[39;49m\u001b[43m_m\u001b[49m\u001b[43m,\u001b[49m\u001b[43m \u001b[49m\u001b[38;5;241;43m*\u001b[39;49m\u001b[38;5;241;43m*\u001b[39;49m\u001b[38;5;28;43mself\u001b[39;49m\u001b[38;5;241;43m.\u001b[39;49m\u001b[43m_metric_kwds\u001b[49m\n\u001b[1;32m   2990\u001b[0m \u001b[43m    \u001b[49m\u001b[43m)\u001b[49m\n\u001b[1;32m   2991\u001b[0m \u001b[38;5;28;01mexcept\u001b[39;00m (\u001b[38;5;167;01mTypeError\u001b[39;00m, \u001b[38;5;167;01mValueError\u001b[39;00m):\n\u001b[1;32m   2992\u001b[0m     \u001b[38;5;66;03m# metric is numba.jit'd or not supported by sklearn,\u001b[39;00m\n\u001b[1;32m   2993\u001b[0m     \u001b[38;5;66;03m# fallback to pairwise special\u001b[39;00m\n\u001b[1;32m   2994\u001b[0m     \u001b[38;5;28;01mif\u001b[39;00m \u001b[38;5;28mself\u001b[39m\u001b[38;5;241m.\u001b[39m_sparse_data:\n\u001b[1;32m   2995\u001b[0m         \u001b[38;5;66;03m# Get a fresh metric since we are casting to dense\u001b[39;00m\n",
      "File \u001b[0;32m~/miniconda3/envs/os_11/lib/python3.11/site-packages/sklearn/metrics/pairwise.py:2196\u001b[0m, in \u001b[0;36mpairwise_distances\u001b[0;34m(X, Y, metric, n_jobs, force_all_finite, **kwds)\u001b[0m\n\u001b[1;32m   2193\u001b[0m         \u001b[38;5;28;01mreturn\u001b[39;00m distance\u001b[38;5;241m.\u001b[39msquareform(distance\u001b[38;5;241m.\u001b[39mpdist(X, metric\u001b[38;5;241m=\u001b[39mmetric, \u001b[38;5;241m*\u001b[39m\u001b[38;5;241m*\u001b[39mkwds))\n\u001b[1;32m   2194\u001b[0m     func \u001b[38;5;241m=\u001b[39m partial(distance\u001b[38;5;241m.\u001b[39mcdist, metric\u001b[38;5;241m=\u001b[39mmetric, \u001b[38;5;241m*\u001b[39m\u001b[38;5;241m*\u001b[39mkwds)\n\u001b[0;32m-> 2196\u001b[0m \u001b[38;5;28;01mreturn\u001b[39;00m \u001b[43m_parallel_pairwise\u001b[49m\u001b[43m(\u001b[49m\u001b[43mX\u001b[49m\u001b[43m,\u001b[49m\u001b[43m \u001b[49m\u001b[43mY\u001b[49m\u001b[43m,\u001b[49m\u001b[43m \u001b[49m\u001b[43mfunc\u001b[49m\u001b[43m,\u001b[49m\u001b[43m \u001b[49m\u001b[43mn_jobs\u001b[49m\u001b[43m,\u001b[49m\u001b[43m \u001b[49m\u001b[38;5;241;43m*\u001b[39;49m\u001b[38;5;241;43m*\u001b[39;49m\u001b[43mkwds\u001b[49m\u001b[43m)\u001b[49m\n",
      "File \u001b[0;32m~/miniconda3/envs/os_11/lib/python3.11/site-packages/sklearn/metrics/pairwise.py:1766\u001b[0m, in \u001b[0;36m_parallel_pairwise\u001b[0;34m(X, Y, func, n_jobs, **kwds)\u001b[0m\n\u001b[1;32m   1763\u001b[0m X, Y, dtype \u001b[38;5;241m=\u001b[39m _return_float_dtype(X, Y)\n\u001b[1;32m   1765\u001b[0m \u001b[38;5;28;01mif\u001b[39;00m effective_n_jobs(n_jobs) \u001b[38;5;241m==\u001b[39m \u001b[38;5;241m1\u001b[39m:\n\u001b[0;32m-> 1766\u001b[0m     \u001b[38;5;28;01mreturn\u001b[39;00m \u001b[43mfunc\u001b[49m\u001b[43m(\u001b[49m\u001b[43mX\u001b[49m\u001b[43m,\u001b[49m\u001b[43m \u001b[49m\u001b[43mY\u001b[49m\u001b[43m,\u001b[49m\u001b[43m \u001b[49m\u001b[38;5;241;43m*\u001b[39;49m\u001b[38;5;241;43m*\u001b[39;49m\u001b[43mkwds\u001b[49m\u001b[43m)\u001b[49m\n\u001b[1;32m   1768\u001b[0m \u001b[38;5;66;03m# enforce a threading backend to prevent data communication overhead\u001b[39;00m\n\u001b[1;32m   1769\u001b[0m fd \u001b[38;5;241m=\u001b[39m delayed(_dist_wrapper)\n",
      "File \u001b[0;32m~/miniconda3/envs/os_11/lib/python3.11/site-packages/sklearn/metrics/pairwise.py:1810\u001b[0m, in \u001b[0;36m_pairwise_callable\u001b[0;34m(X, Y, metric, force_all_finite, **kwds)\u001b[0m\n\u001b[1;32m   1808\u001b[0m     iterator \u001b[38;5;241m=\u001b[39m itertools\u001b[38;5;241m.\u001b[39mproduct(\u001b[38;5;28mrange\u001b[39m(X\u001b[38;5;241m.\u001b[39mshape[\u001b[38;5;241m0\u001b[39m]), \u001b[38;5;28mrange\u001b[39m(Y\u001b[38;5;241m.\u001b[39mshape[\u001b[38;5;241m0\u001b[39m]))\n\u001b[1;32m   1809\u001b[0m     \u001b[38;5;28;01mfor\u001b[39;00m i, j \u001b[38;5;129;01min\u001b[39;00m iterator:\n\u001b[0;32m-> 1810\u001b[0m         out[i, j] \u001b[38;5;241m=\u001b[39m metric(X[i], Y[j], \u001b[38;5;241m*\u001b[39m\u001b[38;5;241m*\u001b[39mkwds)\n\u001b[1;32m   1812\u001b[0m \u001b[38;5;28;01mreturn\u001b[39;00m out\n",
      "\u001b[0;31mKeyboardInterrupt\u001b[0m: "
     ]
    }
   ],
   "source": [
    "pace_embedding = latents_mapping.transform(pace_Rrs)"
   ]
  },
  {
   "cell_type": "markdown",
   "id": "e749c658-9b83-4298-ba1c-e780e0f4cfda",
   "metadata": {},
   "source": [
    "# Plot"
   ]
  },
  {
   "cell_type": "code",
   "execution_count": null,
   "id": "2ea5e79a-6d9f-4b1b-8c2a-3ffdba8e2feb",
   "metadata": {},
   "outputs": [],
   "source": [
    "fig = plt.figure(figsize=(7,5))\n",
    "\n",
    "plt.clf()\n",
    "ax = plt.gca()\n",
    "ax.scatter(l23_embedding[:,0], l23_embedding[:,1], color='gray', label='L23', s=1)\n",
    "ax.scatter(pace_embedding[:,0], pace_embedding[:,1], facecolor='None', edgecolor='red', label='GLORIA', s=1)\n",
    "#\n",
    "ax.set_xlabel('U0')\n",
    "ax.set_ylabel('U1')\n",
    "ax.legend()\n",
    "#\n",
    "plt.show()"
   ]
  }
 ],
 "metadata": {
  "kernelspec": {
   "display_name": "Python 3 (ipykernel)",
   "language": "python",
   "name": "python3"
  },
  "language_info": {
   "codemirror_mode": {
    "name": "ipython",
    "version": 3
   },
   "file_extension": ".py",
   "mimetype": "text/x-python",
   "name": "python",
   "nbconvert_exporter": "python",
   "pygments_lexer": "ipython3",
   "version": "3.11.6"
  }
 },
 "nbformat": 4,
 "nbformat_minor": 5
}
