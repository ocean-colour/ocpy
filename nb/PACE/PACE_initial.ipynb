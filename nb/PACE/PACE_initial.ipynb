{
 "cells": [
  {
   "cell_type": "markdown",
   "id": "75614625-8c74-4499-af55-dcede1682871",
   "metadata": {},
   "source": [
    "# Fussing about with the newest data"
   ]
  },
  {
   "cell_type": "code",
   "execution_count": 34,
   "id": "c23f2db4-71f4-480d-aca8-d7408487d971",
   "metadata": {},
   "outputs": [],
   "source": [
    "# imports\n",
    "from importlib import reload\n",
    "import numpy as np\n",
    "import os\n",
    "\n",
    "import h5py\n",
    "import xarray\n",
    "\n",
    "from matplotlib import pyplot as plt\n",
    "\n",
    "from oceancolor.pace import io as pace_io"
   ]
  },
  {
   "cell_type": "code",
   "execution_count": 11,
   "id": "3d10c742-6148-4068-92b8-f6e7b8aca034",
   "metadata": {},
   "outputs": [],
   "source": [
    "def calc_Rrs(inp, attrs):\n",
    "    return attrs['add_offset'] + (inp*attrs['scale_factor'])"
   ]
  },
  {
   "cell_type": "markdown",
   "id": "fba14a6a-b84b-402a-acb5-477c437d13b7",
   "metadata": {},
   "source": [
    "# Load up an image"
   ]
  },
  {
   "cell_type": "code",
   "execution_count": 3,
   "id": "20770951-0e4b-417d-81a0-6c508051f192",
   "metadata": {},
   "outputs": [],
   "source": [
    "ex_file = os.path.join(os.getenv('OS_COLOR'),\n",
    "                       'data', 'PACE', 'early',\n",
    "                       'PACE_OCI.20240416T093158.L2.OC_AOP.V1_0_0.NRT.nc')"
   ]
  },
  {
   "cell_type": "markdown",
   "id": "e7d96629-7c4b-4952-8024-43ba7cd93a4c",
   "metadata": {},
   "source": [
    "## New I/O"
   ]
  },
  {
   "cell_type": "code",
   "execution_count": 35,
   "id": "6ae0ba5f-374b-4c2a-a9b9-046fb0dfb755",
   "metadata": {},
   "outputs": [],
   "source": [
    "reload(pace_io)\n",
    "xds, flags = pace_io.load_oci_l2(ex_file)"
   ]
  },
  {
   "cell_type": "code",
   "execution_count": 36,
   "id": "4d04cc55-6b51-4783-a35e-8343d039f0a9",
   "metadata": {},
   "outputs": [
    {
     "data": {
      "text/html": [
       "<div><svg style=\"position: absolute; width: 0; height: 0; overflow: hidden\">\n",
       "<defs>\n",
       "<symbol id=\"icon-database\" viewBox=\"0 0 32 32\">\n",
       "<path d=\"M16 0c-8.837 0-16 2.239-16 5v4c0 2.761 7.163 5 16 5s16-2.239 16-5v-4c0-2.761-7.163-5-16-5z\"></path>\n",
       "<path d=\"M16 17c-8.837 0-16-2.239-16-5v6c0 2.761 7.163 5 16 5s16-2.239 16-5v-6c0 2.761-7.163 5-16 5z\"></path>\n",
       "<path d=\"M16 26c-8.837 0-16-2.239-16-5v6c0 2.761 7.163 5 16 5s16-2.239 16-5v-6c0 2.761-7.163 5-16 5z\"></path>\n",
       "</symbol>\n",
       "<symbol id=\"icon-file-text2\" viewBox=\"0 0 32 32\">\n",
       "<path d=\"M28.681 7.159c-0.694-0.947-1.662-2.053-2.724-3.116s-2.169-2.030-3.116-2.724c-1.612-1.182-2.393-1.319-2.841-1.319h-15.5c-1.378 0-2.5 1.121-2.5 2.5v27c0 1.378 1.122 2.5 2.5 2.5h23c1.378 0 2.5-1.122 2.5-2.5v-19.5c0-0.448-0.137-1.23-1.319-2.841zM24.543 5.457c0.959 0.959 1.712 1.825 2.268 2.543h-4.811v-4.811c0.718 0.556 1.584 1.309 2.543 2.268zM28 29.5c0 0.271-0.229 0.5-0.5 0.5h-23c-0.271 0-0.5-0.229-0.5-0.5v-27c0-0.271 0.229-0.5 0.5-0.5 0 0 15.499-0 15.5 0v7c0 0.552 0.448 1 1 1h7v19.5z\"></path>\n",
       "<path d=\"M23 26h-14c-0.552 0-1-0.448-1-1s0.448-1 1-1h14c0.552 0 1 0.448 1 1s-0.448 1-1 1z\"></path>\n",
       "<path d=\"M23 22h-14c-0.552 0-1-0.448-1-1s0.448-1 1-1h14c0.552 0 1 0.448 1 1s-0.448 1-1 1z\"></path>\n",
       "<path d=\"M23 18h-14c-0.552 0-1-0.448-1-1s0.448-1 1-1h14c0.552 0 1 0.448 1 1s-0.448 1-1 1z\"></path>\n",
       "</symbol>\n",
       "</defs>\n",
       "</svg>\n",
       "<style>/* CSS stylesheet for displaying xarray objects in jupyterlab.\n",
       " *\n",
       " */\n",
       "\n",
       ":root {\n",
       "  --xr-font-color0: var(--jp-content-font-color0, rgba(0, 0, 0, 1));\n",
       "  --xr-font-color2: var(--jp-content-font-color2, rgba(0, 0, 0, 0.54));\n",
       "  --xr-font-color3: var(--jp-content-font-color3, rgba(0, 0, 0, 0.38));\n",
       "  --xr-border-color: var(--jp-border-color2, #e0e0e0);\n",
       "  --xr-disabled-color: var(--jp-layout-color3, #bdbdbd);\n",
       "  --xr-background-color: var(--jp-layout-color0, white);\n",
       "  --xr-background-color-row-even: var(--jp-layout-color1, white);\n",
       "  --xr-background-color-row-odd: var(--jp-layout-color2, #eeeeee);\n",
       "}\n",
       "\n",
       "html[theme=dark],\n",
       "body[data-theme=dark],\n",
       "body.vscode-dark {\n",
       "  --xr-font-color0: rgba(255, 255, 255, 1);\n",
       "  --xr-font-color2: rgba(255, 255, 255, 0.54);\n",
       "  --xr-font-color3: rgba(255, 255, 255, 0.38);\n",
       "  --xr-border-color: #1F1F1F;\n",
       "  --xr-disabled-color: #515151;\n",
       "  --xr-background-color: #111111;\n",
       "  --xr-background-color-row-even: #111111;\n",
       "  --xr-background-color-row-odd: #313131;\n",
       "}\n",
       "\n",
       ".xr-wrap {\n",
       "  display: block !important;\n",
       "  min-width: 300px;\n",
       "  max-width: 700px;\n",
       "}\n",
       "\n",
       ".xr-text-repr-fallback {\n",
       "  /* fallback to plain text repr when CSS is not injected (untrusted notebook) */\n",
       "  display: none;\n",
       "}\n",
       "\n",
       ".xr-header {\n",
       "  padding-top: 6px;\n",
       "  padding-bottom: 6px;\n",
       "  margin-bottom: 4px;\n",
       "  border-bottom: solid 1px var(--xr-border-color);\n",
       "}\n",
       "\n",
       ".xr-header > div,\n",
       ".xr-header > ul {\n",
       "  display: inline;\n",
       "  margin-top: 0;\n",
       "  margin-bottom: 0;\n",
       "}\n",
       "\n",
       ".xr-obj-type,\n",
       ".xr-array-name {\n",
       "  margin-left: 2px;\n",
       "  margin-right: 10px;\n",
       "}\n",
       "\n",
       ".xr-obj-type {\n",
       "  color: var(--xr-font-color2);\n",
       "}\n",
       "\n",
       ".xr-sections {\n",
       "  padding-left: 0 !important;\n",
       "  display: grid;\n",
       "  grid-template-columns: 150px auto auto 1fr 20px 20px;\n",
       "}\n",
       "\n",
       ".xr-section-item {\n",
       "  display: contents;\n",
       "}\n",
       "\n",
       ".xr-section-item input {\n",
       "  display: none;\n",
       "}\n",
       "\n",
       ".xr-section-item input + label {\n",
       "  color: var(--xr-disabled-color);\n",
       "}\n",
       "\n",
       ".xr-section-item input:enabled + label {\n",
       "  cursor: pointer;\n",
       "  color: var(--xr-font-color2);\n",
       "}\n",
       "\n",
       ".xr-section-item input:enabled + label:hover {\n",
       "  color: var(--xr-font-color0);\n",
       "}\n",
       "\n",
       ".xr-section-summary {\n",
       "  grid-column: 1;\n",
       "  color: var(--xr-font-color2);\n",
       "  font-weight: 500;\n",
       "}\n",
       "\n",
       ".xr-section-summary > span {\n",
       "  display: inline-block;\n",
       "  padding-left: 0.5em;\n",
       "}\n",
       "\n",
       ".xr-section-summary-in:disabled + label {\n",
       "  color: var(--xr-font-color2);\n",
       "}\n",
       "\n",
       ".xr-section-summary-in + label:before {\n",
       "  display: inline-block;\n",
       "  content: '►';\n",
       "  font-size: 11px;\n",
       "  width: 15px;\n",
       "  text-align: center;\n",
       "}\n",
       "\n",
       ".xr-section-summary-in:disabled + label:before {\n",
       "  color: var(--xr-disabled-color);\n",
       "}\n",
       "\n",
       ".xr-section-summary-in:checked + label:before {\n",
       "  content: '▼';\n",
       "}\n",
       "\n",
       ".xr-section-summary-in:checked + label > span {\n",
       "  display: none;\n",
       "}\n",
       "\n",
       ".xr-section-summary,\n",
       ".xr-section-inline-details {\n",
       "  padding-top: 4px;\n",
       "  padding-bottom: 4px;\n",
       "}\n",
       "\n",
       ".xr-section-inline-details {\n",
       "  grid-column: 2 / -1;\n",
       "}\n",
       "\n",
       ".xr-section-details {\n",
       "  display: none;\n",
       "  grid-column: 1 / -1;\n",
       "  margin-bottom: 5px;\n",
       "}\n",
       "\n",
       ".xr-section-summary-in:checked ~ .xr-section-details {\n",
       "  display: contents;\n",
       "}\n",
       "\n",
       ".xr-array-wrap {\n",
       "  grid-column: 1 / -1;\n",
       "  display: grid;\n",
       "  grid-template-columns: 20px auto;\n",
       "}\n",
       "\n",
       ".xr-array-wrap > label {\n",
       "  grid-column: 1;\n",
       "  vertical-align: top;\n",
       "}\n",
       "\n",
       ".xr-preview {\n",
       "  color: var(--xr-font-color3);\n",
       "}\n",
       "\n",
       ".xr-array-preview,\n",
       ".xr-array-data {\n",
       "  padding: 0 5px !important;\n",
       "  grid-column: 2;\n",
       "}\n",
       "\n",
       ".xr-array-data,\n",
       ".xr-array-in:checked ~ .xr-array-preview {\n",
       "  display: none;\n",
       "}\n",
       "\n",
       ".xr-array-in:checked ~ .xr-array-data,\n",
       ".xr-array-preview {\n",
       "  display: inline-block;\n",
       "}\n",
       "\n",
       ".xr-dim-list {\n",
       "  display: inline-block !important;\n",
       "  list-style: none;\n",
       "  padding: 0 !important;\n",
       "  margin: 0;\n",
       "}\n",
       "\n",
       ".xr-dim-list li {\n",
       "  display: inline-block;\n",
       "  padding: 0;\n",
       "  margin: 0;\n",
       "}\n",
       "\n",
       ".xr-dim-list:before {\n",
       "  content: '(';\n",
       "}\n",
       "\n",
       ".xr-dim-list:after {\n",
       "  content: ')';\n",
       "}\n",
       "\n",
       ".xr-dim-list li:not(:last-child):after {\n",
       "  content: ',';\n",
       "  padding-right: 5px;\n",
       "}\n",
       "\n",
       ".xr-has-index {\n",
       "  font-weight: bold;\n",
       "}\n",
       "\n",
       ".xr-var-list,\n",
       ".xr-var-item {\n",
       "  display: contents;\n",
       "}\n",
       "\n",
       ".xr-var-item > div,\n",
       ".xr-var-item label,\n",
       ".xr-var-item > .xr-var-name span {\n",
       "  background-color: var(--xr-background-color-row-even);\n",
       "  margin-bottom: 0;\n",
       "}\n",
       "\n",
       ".xr-var-item > .xr-var-name:hover span {\n",
       "  padding-right: 5px;\n",
       "}\n",
       "\n",
       ".xr-var-list > li:nth-child(odd) > div,\n",
       ".xr-var-list > li:nth-child(odd) > label,\n",
       ".xr-var-list > li:nth-child(odd) > .xr-var-name span {\n",
       "  background-color: var(--xr-background-color-row-odd);\n",
       "}\n",
       "\n",
       ".xr-var-name {\n",
       "  grid-column: 1;\n",
       "}\n",
       "\n",
       ".xr-var-dims {\n",
       "  grid-column: 2;\n",
       "}\n",
       "\n",
       ".xr-var-dtype {\n",
       "  grid-column: 3;\n",
       "  text-align: right;\n",
       "  color: var(--xr-font-color2);\n",
       "}\n",
       "\n",
       ".xr-var-preview {\n",
       "  grid-column: 4;\n",
       "}\n",
       "\n",
       ".xr-index-preview {\n",
       "  grid-column: 2 / 5;\n",
       "  color: var(--xr-font-color2);\n",
       "}\n",
       "\n",
       ".xr-var-name,\n",
       ".xr-var-dims,\n",
       ".xr-var-dtype,\n",
       ".xr-preview,\n",
       ".xr-attrs dt {\n",
       "  white-space: nowrap;\n",
       "  overflow: hidden;\n",
       "  text-overflow: ellipsis;\n",
       "  padding-right: 10px;\n",
       "}\n",
       "\n",
       ".xr-var-name:hover,\n",
       ".xr-var-dims:hover,\n",
       ".xr-var-dtype:hover,\n",
       ".xr-attrs dt:hover {\n",
       "  overflow: visible;\n",
       "  width: auto;\n",
       "  z-index: 1;\n",
       "}\n",
       "\n",
       ".xr-var-attrs,\n",
       ".xr-var-data,\n",
       ".xr-index-data {\n",
       "  display: none;\n",
       "  background-color: var(--xr-background-color) !important;\n",
       "  padding-bottom: 5px !important;\n",
       "}\n",
       "\n",
       ".xr-var-attrs-in:checked ~ .xr-var-attrs,\n",
       ".xr-var-data-in:checked ~ .xr-var-data,\n",
       ".xr-index-data-in:checked ~ .xr-index-data {\n",
       "  display: block;\n",
       "}\n",
       "\n",
       ".xr-var-data > table {\n",
       "  float: right;\n",
       "}\n",
       "\n",
       ".xr-var-name span,\n",
       ".xr-var-data,\n",
       ".xr-index-name div,\n",
       ".xr-index-data,\n",
       ".xr-attrs {\n",
       "  padding-left: 25px !important;\n",
       "}\n",
       "\n",
       ".xr-attrs,\n",
       ".xr-var-attrs,\n",
       ".xr-var-data,\n",
       ".xr-index-data {\n",
       "  grid-column: 1 / -1;\n",
       "}\n",
       "\n",
       "dl.xr-attrs {\n",
       "  padding: 0;\n",
       "  margin: 0;\n",
       "  display: grid;\n",
       "  grid-template-columns: 125px auto;\n",
       "}\n",
       "\n",
       ".xr-attrs dt,\n",
       ".xr-attrs dd {\n",
       "  padding: 0;\n",
       "  margin: 0;\n",
       "  float: left;\n",
       "  padding-right: 10px;\n",
       "  width: auto;\n",
       "}\n",
       "\n",
       ".xr-attrs dt {\n",
       "  font-weight: normal;\n",
       "  grid-column: 1;\n",
       "}\n",
       "\n",
       ".xr-attrs dt:hover span {\n",
       "  display: inline-block;\n",
       "  background: var(--xr-background-color);\n",
       "  padding-right: 10px;\n",
       "}\n",
       "\n",
       ".xr-attrs dd {\n",
       "  grid-column: 2;\n",
       "  white-space: pre-wrap;\n",
       "  word-break: break-all;\n",
       "}\n",
       "\n",
       ".xr-icon-database,\n",
       ".xr-icon-file-text2,\n",
       ".xr-no-icon {\n",
       "  display: inline-block;\n",
       "  vertical-align: middle;\n",
       "  width: 1em;\n",
       "  height: 1.5em !important;\n",
       "  stroke-width: 0;\n",
       "  stroke: currentColor;\n",
       "  fill: currentColor;\n",
       "}\n",
       "</style><pre class='xr-text-repr-fallback'>&lt;xarray.Dataset&gt;\n",
       "Dimensions:     (x: 1709, y: 1272, wl: 184)\n",
       "Coordinates:\n",
       "    latitude    (x, y) float32 -45.28 -45.27 -45.26 ... -22.18 -22.16 -22.15\n",
       "    longitude   (x, y) float32 42.63 42.72 42.81 42.9 ... 67.44 67.51 67.58\n",
       "    wavelength  (wl) int32 339 341 344 346 348 351 ... 711 712 713 714 717 719\n",
       "Dimensions without coordinates: x, y, wl\n",
       "Data variables:\n",
       "    Rrs         (x, y, wl) float32 nan nan nan nan nan ... nan nan nan nan nan\n",
       "Attributes: (12/45)\n",
       "    title:                             OCI Level-2 Data\n",
       "    product_name:                      PACE_OCI.20240416T093158.L2.OC_AOP.V1_...\n",
       "    processing_version:                V1.0.0\n",
       "    history:                           l2gen par=/data3/sdpsoper/vdc/vpu2/wor...\n",
       "    instrument:                        OCI\n",
       "    platform:                          PACE\n",
       "    ...                                ...\n",
       "    geospatial_lon_max:                42.62585\n",
       "    geospatial_lon_min:                67.580574\n",
       "    startDirection:                    Ascending\n",
       "    endDirection:                      Ascending\n",
       "    day_night_flag:                    Day\n",
       "    earth_sun_distance_correction:     0.9927405714988708</pre><div class='xr-wrap' style='display:none'><div class='xr-header'><div class='xr-obj-type'>xarray.Dataset</div></div><ul class='xr-sections'><li class='xr-section-item'><input id='section-7174ba64-20c8-4837-925b-dcd07d3776ba' class='xr-section-summary-in' type='checkbox' disabled ><label for='section-7174ba64-20c8-4837-925b-dcd07d3776ba' class='xr-section-summary'  title='Expand/collapse section'>Dimensions:</label><div class='xr-section-inline-details'><ul class='xr-dim-list'><li><span>x</span>: 1709</li><li><span>y</span>: 1272</li><li><span>wl</span>: 184</li></ul></div><div class='xr-section-details'></div></li><li class='xr-section-item'><input id='section-6213ead9-4a8c-49a1-8605-7c2bd300edd9' class='xr-section-summary-in' type='checkbox'  checked><label for='section-6213ead9-4a8c-49a1-8605-7c2bd300edd9' class='xr-section-summary' >Coordinates: <span>(3)</span></label><div class='xr-section-inline-details'></div><div class='xr-section-details'><ul class='xr-var-list'><li class='xr-var-item'><div class='xr-var-name'><span>latitude</span></div><div class='xr-var-dims'>(x, y)</div><div class='xr-var-dtype'>float32</div><div class='xr-var-preview xr-preview'>-45.28 -45.27 ... -22.16 -22.15</div><input id='attrs-e5788cfb-e5e4-42f9-b1a8-457b1d46e267' class='xr-var-attrs-in' type='checkbox' disabled><label for='attrs-e5788cfb-e5e4-42f9-b1a8-457b1d46e267' title='Show/Hide attributes'><svg class='icon xr-icon-file-text2'><use xlink:href='#icon-file-text2'></use></svg></label><input id='data-75614214-5c12-4573-ba03-6e0a4533e3ee' class='xr-var-data-in' type='checkbox'><label for='data-75614214-5c12-4573-ba03-6e0a4533e3ee' title='Show/Hide data repr'><svg class='icon xr-icon-database'><use xlink:href='#icon-database'></use></svg></label><div class='xr-var-attrs'><dl class='xr-attrs'></dl></div><div class='xr-var-data'><pre>array([[-45.276493, -45.267868, -45.2593  , ..., -39.350872, -39.328945,\n",
       "        -39.30673 ],\n",
       "       [-45.266056, -45.257423, -45.24886 , ..., -39.340862, -39.31893 ,\n",
       "        -39.296722],\n",
       "       [-45.255756, -45.24713 , -45.238544, ..., -39.33122 , -39.30931 ,\n",
       "        -39.287098],\n",
       "       ...,\n",
       "       [-27.49839 , -27.485014, -27.471788, ..., -22.198944, -22.184616,\n",
       "        -22.170118],\n",
       "       [-27.4878  , -27.474426, -27.461197, ..., -22.188595, -22.174269,\n",
       "        -22.159773],\n",
       "       [-27.477545, -27.46416 , -27.450933, ..., -22.178358, -22.164034,\n",
       "        -22.149544]], dtype=float32)</pre></div></li><li class='xr-var-item'><div class='xr-var-name'><span>longitude</span></div><div class='xr-var-dims'>(x, y)</div><div class='xr-var-dtype'>float32</div><div class='xr-var-preview xr-preview'>42.63 42.72 42.81 ... 67.51 67.58</div><input id='attrs-46378bf7-eeba-46b2-8fe5-3712d2532a33' class='xr-var-attrs-in' type='checkbox' disabled><label for='attrs-46378bf7-eeba-46b2-8fe5-3712d2532a33' title='Show/Hide attributes'><svg class='icon xr-icon-file-text2'><use xlink:href='#icon-file-text2'></use></svg></label><input id='data-9ac6f677-5a6b-4628-b329-6fdfcff6ce71' class='xr-var-data-in' type='checkbox'><label for='data-9ac6f677-5a6b-4628-b329-6fdfcff6ce71' title='Show/Hide data repr'><svg class='icon xr-icon-database'><use xlink:href='#icon-database'></use></svg></label><div class='xr-var-attrs'><dl class='xr-attrs'></dl></div><div class='xr-var-data'><pre>array([[42.62551 , 42.71948 , 42.812317, ..., 75.21947 , 75.2996  ,\n",
       "        75.38066 ],\n",
       "       [42.62585 , 42.719795, 42.812603, ..., 75.21429 , 75.294426,\n",
       "        75.37549 ],\n",
       "       [42.62477 , 42.718693, 42.811504, ..., 75.207886, 75.28802 ,\n",
       "        75.36905 ],\n",
       "       ...,\n",
       "       [41.226868, 41.298992, 41.370266, ..., 67.450806, 67.5186  ,\n",
       "        67.5872  ],\n",
       "       [41.226402, 41.298508, 41.369755, ..., 67.44776 , 67.51556 ,\n",
       "        67.584145],\n",
       "       [41.224117, 41.296223, 41.367477, ..., 67.44421 , 67.51199 ,\n",
       "        67.580574]], dtype=float32)</pre></div></li><li class='xr-var-item'><div class='xr-var-name'><span>wavelength</span></div><div class='xr-var-dims'>(wl)</div><div class='xr-var-dtype'>int32</div><div class='xr-var-preview xr-preview'>339 341 344 346 ... 713 714 717 719</div><input id='attrs-c86fcb3b-6e7e-40d1-acf1-b7e3e2f9412d' class='xr-var-attrs-in' type='checkbox' disabled><label for='attrs-c86fcb3b-6e7e-40d1-acf1-b7e3e2f9412d' title='Show/Hide attributes'><svg class='icon xr-icon-file-text2'><use xlink:href='#icon-file-text2'></use></svg></label><input id='data-9239c142-9c3b-4ce3-b1cf-6e4547ecd1f8' class='xr-var-data-in' type='checkbox'><label for='data-9239c142-9c3b-4ce3-b1cf-6e4547ecd1f8' title='Show/Hide data repr'><svg class='icon xr-icon-database'><use xlink:href='#icon-database'></use></svg></label><div class='xr-var-attrs'><dl class='xr-attrs'></dl></div><div class='xr-var-data'><pre>array([339, 341, 344, 346, 348, 351, 353, 356, 358, 361, 363, 366, 368,\n",
       "       371, 373, 375, 378, 380, 383, 385, 388, 390, 393, 395, 398, 400,\n",
       "       403, 405, 408, 410, 413, 415, 418, 420, 422, 425, 427, 430, 432,\n",
       "       435, 437, 440, 442, 445, 447, 450, 452, 455, 457, 460, 462, 465,\n",
       "       467, 470, 472, 475, 477, 480, 482, 485, 487, 490, 492, 495, 497,\n",
       "       500, 502, 505, 507, 510, 512, 515, 517, 520, 522, 525, 527, 530,\n",
       "       532, 535, 537, 540, 542, 545, 547, 550, 553, 555, 558, 560, 563,\n",
       "       565, 568, 570, 573, 575, 578, 580, 583, 586, 588, 591, 593, 596,\n",
       "       598, 601, 603, 605, 608, 610, 613, 615, 618, 620, 623, 625, 627,\n",
       "       630, 632, 635, 637, 640, 641, 642, 643, 645, 646, 647, 648, 650,\n",
       "       651, 652, 653, 655, 656, 657, 658, 660, 661, 662, 663, 665, 666,\n",
       "       667, 668, 670, 671, 672, 673, 675, 676, 677, 678, 679, 681, 682,\n",
       "       683, 684, 686, 687, 688, 689, 691, 692, 693, 694, 696, 697, 698,\n",
       "       699, 701, 702, 703, 704, 706, 707, 708, 709, 711, 712, 713, 714,\n",
       "       717, 719], dtype=int32)</pre></div></li></ul></div></li><li class='xr-section-item'><input id='section-fa488d08-341f-4675-81ab-2c6f1c977098' class='xr-section-summary-in' type='checkbox'  checked><label for='section-fa488d08-341f-4675-81ab-2c6f1c977098' class='xr-section-summary' >Data variables: <span>(1)</span></label><div class='xr-section-inline-details'></div><div class='xr-section-details'><ul class='xr-var-list'><li class='xr-var-item'><div class='xr-var-name'><span>Rrs</span></div><div class='xr-var-dims'>(x, y, wl)</div><div class='xr-var-dtype'>float32</div><div class='xr-var-preview xr-preview'>nan nan nan nan ... nan nan nan nan</div><input id='attrs-116c0d2f-7e6c-4a85-88c6-52a13833641b' class='xr-var-attrs-in' type='checkbox' disabled><label for='attrs-116c0d2f-7e6c-4a85-88c6-52a13833641b' title='Show/Hide attributes'><svg class='icon xr-icon-file-text2'><use xlink:href='#icon-file-text2'></use></svg></label><input id='data-a23438c5-f306-432d-91d3-ecf48d302f2f' class='xr-var-data-in' type='checkbox'><label for='data-a23438c5-f306-432d-91d3-ecf48d302f2f' title='Show/Hide data repr'><svg class='icon xr-icon-database'><use xlink:href='#icon-database'></use></svg></label><div class='xr-var-attrs'><dl class='xr-attrs'></dl></div><div class='xr-var-data'><pre>array([[[nan, nan, nan, ..., nan, nan, nan],\n",
       "        [nan, nan, nan, ..., nan, nan, nan],\n",
       "        [nan, nan, nan, ..., nan, nan, nan],\n",
       "        ...,\n",
       "        [nan, nan, nan, ..., nan, nan, nan],\n",
       "        [nan, nan, nan, ..., nan, nan, nan],\n",
       "        [nan, nan, nan, ..., nan, nan, nan]],\n",
       "\n",
       "       [[nan, nan, nan, ..., nan, nan, nan],\n",
       "        [nan, nan, nan, ..., nan, nan, nan],\n",
       "        [nan, nan, nan, ..., nan, nan, nan],\n",
       "        ...,\n",
       "        [nan, nan, nan, ..., nan, nan, nan],\n",
       "        [nan, nan, nan, ..., nan, nan, nan],\n",
       "        [nan, nan, nan, ..., nan, nan, nan]],\n",
       "\n",
       "       [[nan, nan, nan, ..., nan, nan, nan],\n",
       "        [nan, nan, nan, ..., nan, nan, nan],\n",
       "        [nan, nan, nan, ..., nan, nan, nan],\n",
       "        ...,\n",
       "...\n",
       "        ...,\n",
       "        [nan, nan, nan, ..., nan, nan, nan],\n",
       "        [nan, nan, nan, ..., nan, nan, nan],\n",
       "        [nan, nan, nan, ..., nan, nan, nan]],\n",
       "\n",
       "       [[nan, nan, nan, ..., nan, nan, nan],\n",
       "        [nan, nan, nan, ..., nan, nan, nan],\n",
       "        [nan, nan, nan, ..., nan, nan, nan],\n",
       "        ...,\n",
       "        [nan, nan, nan, ..., nan, nan, nan],\n",
       "        [nan, nan, nan, ..., nan, nan, nan],\n",
       "        [nan, nan, nan, ..., nan, nan, nan]],\n",
       "\n",
       "       [[nan, nan, nan, ..., nan, nan, nan],\n",
       "        [nan, nan, nan, ..., nan, nan, nan],\n",
       "        [nan, nan, nan, ..., nan, nan, nan],\n",
       "        ...,\n",
       "        [nan, nan, nan, ..., nan, nan, nan],\n",
       "        [nan, nan, nan, ..., nan, nan, nan],\n",
       "        [nan, nan, nan, ..., nan, nan, nan]]], dtype=float32)</pre></div></li></ul></div></li><li class='xr-section-item'><input id='section-b689ee71-4880-4f2a-89ee-68545c630b00' class='xr-section-summary-in' type='checkbox' disabled ><label for='section-b689ee71-4880-4f2a-89ee-68545c630b00' class='xr-section-summary'  title='Expand/collapse section'>Indexes: <span>(0)</span></label><div class='xr-section-inline-details'></div><div class='xr-section-details'><ul class='xr-var-list'></ul></div></li><li class='xr-section-item'><input id='section-d6a3305f-814c-4482-b8eb-26e184535cdc' class='xr-section-summary-in' type='checkbox'  ><label for='section-d6a3305f-814c-4482-b8eb-26e184535cdc' class='xr-section-summary' >Attributes: <span>(45)</span></label><div class='xr-section-inline-details'></div><div class='xr-section-details'><dl class='xr-attrs'><dt><span>title :</span></dt><dd>OCI Level-2 Data</dd><dt><span>product_name :</span></dt><dd>PACE_OCI.20240416T093158.L2.OC_AOP.V1_0_0.NRT.nc</dd><dt><span>processing_version :</span></dt><dd>V1.0.0</dd><dt><span>history :</span></dt><dd>l2gen par=/data3/sdpsoper/vdc/vpu2/workbuf/PACE_OCI.20240416T093158.L1B.nc.param metafile=PACE_OCI.20240416T093158.L2.OC_AOP.V1_0_0.NRT.nc.meta</dd><dt><span>instrument :</span></dt><dd>OCI</dd><dt><span>platform :</span></dt><dd>PACE</dd><dt><span>Conventions :</span></dt><dd>CF-1.6 ACDD-1.3</dd><dt><span>license :</span></dt><dd>https://science.nasa.gov/earth-science/earth-science-data/data-information-policy/</dd><dt><span>naming_authority :</span></dt><dd>gov.nasa.gsfc.sci.oceandata</dd><dt><span>id :</span></dt><dd>V1.0.0/L2/PACE_OCI.20240416T093158.L2.OC_AOP.V1_0_0.NRT.nc</dd><dt><span>date_created :</span></dt><dd>2024-04-16T11:10:25.000Z</dd><dt><span>standard_name_vocabulary :</span></dt><dd>CF Standard Name Table v36</dd><dt><span>institution :</span></dt><dd>NASA Goddard Space Flight Center, Ocean Ecology Laboratory, Ocean Biology Processing Group</dd><dt><span>creator_name :</span></dt><dd>NASA/GSFC/OBPG</dd><dt><span>creator_email :</span></dt><dd>data@oceancolor.gsfc.nasa.gov</dd><dt><span>creator_url :</span></dt><dd>https://oceandata.sci.gsfc.nasa.gov</dd><dt><span>project :</span></dt><dd>Ocean Biology Processing Group (NASA/GSFC/OBPG)</dd><dt><span>publisher_name :</span></dt><dd>NASA/GSFC/OBPG</dd><dt><span>publisher_url :</span></dt><dd>https://oceandata.sci.gsfc.nasa.gov</dd><dt><span>publisher_email :</span></dt><dd>data@oceancolor.gsfc.nasa.gov</dd><dt><span>identifier_product_doi_authority :</span></dt><dd>http://dx.doi.org</dd><dt><span>identifier_product_doi :</span></dt><dd>10.5067/PACE/OCI/L2/OC_AOP/v1</dd><dt><span>processing_level :</span></dt><dd>L2</dd><dt><span>cdm_data_type :</span></dt><dd>swath</dd><dt><span>spatialResolution :</span></dt><dd>1000 m</dd><dt><span>time_coverage_start :</span></dt><dd>2024-04-16T09:31:58.188Z</dd><dt><span>time_coverage_end :</span></dt><dd>2024-04-16T09:36:57.895Z</dd><dt><span>start_center_longitude :</span></dt><dd>59.627537</dd><dt><span>start_center_latitude :</span></dt><dd>-42.9253</dd><dt><span>end_center_longitude :</span></dt><dd>54.57236</dd><dt><span>end_center_latitude :</span></dt><dd>-24.86258</dd><dt><span>northernmost_latitude :</span></dt><dd>-22.149544</dd><dt><span>southernmost_latitude :</span></dt><dd>-45.276493</dd><dt><span>easternmost_longitude :</span></dt><dd>42.62585</dd><dt><span>westernmost_longitude :</span></dt><dd>67.580574</dd><dt><span>geospatial_lat_units :</span></dt><dd>degrees_north</dd><dt><span>geospatial_lon_units :</span></dt><dd>degrees_east</dd><dt><span>geospatial_lat_max :</span></dt><dd>-22.149544</dd><dt><span>geospatial_lat_min :</span></dt><dd>-45.276493</dd><dt><span>geospatial_lon_max :</span></dt><dd>42.62585</dd><dt><span>geospatial_lon_min :</span></dt><dd>67.580574</dd><dt><span>startDirection :</span></dt><dd>Ascending</dd><dt><span>endDirection :</span></dt><dd>Ascending</dd><dt><span>day_night_flag :</span></dt><dd>Day</dd><dt><span>earth_sun_distance_correction :</span></dt><dd>0.9927405714988708</dd></dl></div></li></ul></div></div>"
      ],
      "text/plain": [
       "<xarray.Dataset>\n",
       "Dimensions:     (x: 1709, y: 1272, wl: 184)\n",
       "Coordinates:\n",
       "    latitude    (x, y) float32 -45.28 -45.27 -45.26 ... -22.18 -22.16 -22.15\n",
       "    longitude   (x, y) float32 42.63 42.72 42.81 42.9 ... 67.44 67.51 67.58\n",
       "    wavelength  (wl) int32 339 341 344 346 348 351 ... 711 712 713 714 717 719\n",
       "Dimensions without coordinates: x, y, wl\n",
       "Data variables:\n",
       "    Rrs         (x, y, wl) float32 nan nan nan nan nan ... nan nan nan nan nan\n",
       "Attributes: (12/45)\n",
       "    title:                             OCI Level-2 Data\n",
       "    product_name:                      PACE_OCI.20240416T093158.L2.OC_AOP.V1_...\n",
       "    processing_version:                V1.0.0\n",
       "    history:                           l2gen par=/data3/sdpsoper/vdc/vpu2/wor...\n",
       "    instrument:                        OCI\n",
       "    platform:                          PACE\n",
       "    ...                                ...\n",
       "    geospatial_lon_max:                42.62585\n",
       "    geospatial_lon_min:                67.580574\n",
       "    startDirection:                    Ascending\n",
       "    endDirection:                      Ascending\n",
       "    day_night_flag:                    Day\n",
       "    earth_sun_distance_correction:     0.9927405714988708"
      ]
     },
     "execution_count": 36,
     "metadata": {},
     "output_type": "execute_result"
    }
   ],
   "source": [
    "xds"
   ]
  },
  {
   "cell_type": "code",
   "execution_count": 37,
   "id": "abd11abc-4558-4cfc-bb2c-94fd76aaa6a8",
   "metadata": {},
   "outputs": [
    {
     "data": {
      "text/plain": [
       "(1709, 1272, 184)"
      ]
     },
     "execution_count": 37,
     "metadata": {},
     "output_type": "execute_result"
    }
   ],
   "source": [
    "xds.Rrs.shape"
   ]
  },
  {
   "cell_type": "code",
   "execution_count": 42,
   "id": "312f4fcd-a8b8-4547-9020-c749d8175828",
   "metadata": {},
   "outputs": [
    {
     "data": {
      "text/plain": [
       "(1709, 1272)"
      ]
     },
     "execution_count": 42,
     "metadata": {},
     "output_type": "execute_result"
    }
   ],
   "source": [
    "flags.data.shape"
   ]
  },
  {
   "cell_type": "markdown",
   "id": "c3299355-7f99-42c5-93a5-036de9fa9a6e",
   "metadata": {},
   "source": [
    "## h5py"
   ]
  },
  {
   "cell_type": "code",
   "execution_count": 4,
   "id": "8af894ee-f405-4f89-b295-aeba86384d8b",
   "metadata": {},
   "outputs": [],
   "source": [
    "f = h5py.File(ex_file, 'r')"
   ]
  },
  {
   "cell_type": "code",
   "execution_count": 5,
   "id": "2f15fbb8-055b-4688-9b46-c2a11a749f8a",
   "metadata": {},
   "outputs": [
    {
     "data": {
      "text/plain": [
       "<KeysViewHDF5 ['bands_per_pixel', 'geophysical_data', 'navigation_data', 'number_of_bands', 'number_of_cloud_phases', 'number_of_lines', 'number_of_reflectance_location_values', 'number_of_reflective_bands', 'pixel_control_points', 'pixels_per_line', 'processing_control', 'scan_line_attributes', 'sensor_band_parameters', 'wavelength_3d']>"
      ]
     },
     "execution_count": 5,
     "metadata": {},
     "output_type": "execute_result"
    }
   ],
   "source": [
    "f.keys()"
   ]
  },
  {
   "cell_type": "code",
   "execution_count": 6,
   "id": "6d6a7cdf-7084-4658-9363-e4f88aa5b892",
   "metadata": {},
   "outputs": [
    {
     "data": {
      "text/plain": [
       "<KeysViewHDF5 ['Rrs', 'Rrs_unc', 'aot_865', 'angstrom', 'avw', 'l2_flags']>"
      ]
     },
     "execution_count": 6,
     "metadata": {},
     "output_type": "execute_result"
    }
   ],
   "source": [
    "f['geophysical_data'].keys()"
   ]
  },
  {
   "cell_type": "code",
   "execution_count": 13,
   "id": "d129700d-59a3-4588-9a21-401ae6eb4a66",
   "metadata": {},
   "outputs": [],
   "source": [
    "Rrs_unscaled = f['geophysical_data']['Rrs'][:]"
   ]
  },
  {
   "cell_type": "code",
   "execution_count": 8,
   "id": "0e52b930-cefd-4d67-8787-63a5ae478cf4",
   "metadata": {},
   "outputs": [
    {
     "data": {
      "text/plain": [
       "(1709, 1272, 184)"
      ]
     },
     "execution_count": 8,
     "metadata": {},
     "output_type": "execute_result"
    }
   ],
   "source": [
    "Rrs.shape"
   ]
  },
  {
   "cell_type": "code",
   "execution_count": 12,
   "id": "738de7b3-0457-4d8f-9b88-6ce9849e1d50",
   "metadata": {},
   "outputs": [],
   "source": [
    "Rattrs = f['geophysical_data']['Rrs'].attrs"
   ]
  },
  {
   "cell_type": "code",
   "execution_count": 14,
   "id": "fe189129-5dd2-44fe-af33-8c3aad130c85",
   "metadata": {},
   "outputs": [],
   "source": [
    "Rrs = calc_Rrs(Rrs_unscaled, Rattrs)"
   ]
  },
  {
   "cell_type": "code",
   "execution_count": 15,
   "id": "832310f7-ad56-40de-9b2b-8a429df38be4",
   "metadata": {},
   "outputs": [],
   "source": [
    "wave = f['sensor_band_parameters']['wavelength_3d'][:]"
   ]
  },
  {
   "cell_type": "code",
   "execution_count": 16,
   "id": "79760c25-6077-4572-88e6-5be423cf65e9",
   "metadata": {},
   "outputs": [
    {
     "data": {
      "text/plain": [
       "(1709, 1272)"
      ]
     },
     "execution_count": 16,
     "metadata": {},
     "output_type": "execute_result"
    }
   ],
   "source": [
    "flags = f['geophysical_data']['l2_flags'][:]\n",
    "flags.shape"
   ]
  },
  {
   "cell_type": "markdown",
   "id": "59845976-55c6-4e6d-926c-52410cec7c73",
   "metadata": {},
   "source": [
    "# Plot a few spectra"
   ]
  },
  {
   "cell_type": "code",
   "execution_count": 17,
   "id": "2dac1653-3212-420b-94f5-91114869470c",
   "metadata": {},
   "outputs": [],
   "source": [
    "gd_idx = np.where(flags == 0)"
   ]
  },
  {
   "cell_type": "code",
   "execution_count": 29,
   "id": "c162d4c9-8b91-4e4b-95d6-0350d7cd261d",
   "metadata": {},
   "outputs": [
    {
     "data": {
      "image/png": "[encoded data removed]",
      "text/plain": [
       "<Figure size 600x600 with 1 Axes>"
      ]
     },
     "metadata": {},
     "output_type": "display_data"
    }
   ],
   "source": [
    "idx = 50\n",
    "\n",
    "fig = plt.figure(figsize=(6,6))\n",
    "plt.clf()\n",
    "ax = plt.gca()\n",
    "\n",
    "for idx in [0, 100, 500, 1000, 2000]:\n",
    "    idx_r, idx_c = gd_idx[0][idx], gd_idx[1][idx]\n",
    "    ax.plot(wave, Rrs[idx_r,idx_c,:])\n",
    "#\n",
    "ax.set_xlabel('Wavelength (nm)')\n",
    "ax.set_ylabel(r'$R_{rs}$ (sr$^{-1}$)')\n",
    "#\n",
    "plt.show()"
   ]
  },
  {
   "cell_type": "markdown",
   "id": "36582c5d-6f50-42b3-835a-394725dcf986",
   "metadata": {},
   "source": [
    "----"
   ]
  },
  {
   "cell_type": "markdown",
   "id": "ea27dad2-45e4-4495-8251-049f1b79d4d8",
   "metadata": {},
   "source": [
    "# Test"
   ]
  },
  {
   "cell_type": "code",
   "execution_count": 73,
   "id": "b8273991-002b-49d5-8ac5-2c3f1f2a862d",
   "metadata": {},
   "outputs": [
    {
     "data": {
      "text/plain": [
       "<KeysViewHDF5 ['title', 'product_name', 'processing_version', 'history', 'instrument', 'platform', 'Conventions', 'license', 'naming_authority', 'id', 'date_created', 'standard_name_vocabulary', 'institution', 'creator_name', 'creator_email', 'creator_url', 'project', 'publisher_name', 'publisher_url', 'publisher_email', 'identifier_product_doi_authority', 'identifier_product_doi', 'processing_level', 'cdm_data_type', 'spatialResolution', '_NCProperties', 'time_coverage_start', 'time_coverage_end', 'start_center_longitude', 'start_center_latitude', 'end_center_longitude', 'end_center_latitude', 'northernmost_latitude', 'southernmost_latitude', 'easternmost_longitude', 'westernmost_longitude', 'geospatial_lat_units', 'geospatial_lon_units', 'geospatial_lat_max', 'geospatial_lat_min', 'geospatial_lon_max', 'geospatial_lon_min', 'startDirection', 'endDirection', 'day_night_flag', 'earth_sun_distance_correction']>"
      ]
     },
     "execution_count": 73,
     "metadata": {},
     "output_type": "execute_result"
    }
   ],
   "source": [
    "f.attrs.keys()"
   ]
  },
  {
   "cell_type": "code",
   "execution_count": 63,
   "id": "016d2b6c-2ee8-47fe-99ce-bc708d057f61",
   "metadata": {},
   "outputs": [],
   "source": [
    "t = f['geophysical_data']['Rrs']"
   ]
  },
  {
   "cell_type": "code",
   "execution_count": 70,
   "id": "2ddd8d3e-3942-471e-8a93-16da38726028",
   "metadata": {},
   "outputs": [
    {
     "data": {
      "text/plain": [
       "4"
      ]
     },
     "execution_count": 70,
     "metadata": {},
     "output_type": "execute_result"
    }
   ],
   "source": [
    "t.compression_opts"
   ]
  },
  {
   "cell_type": "code",
   "execution_count": 71,
   "id": "2c58fadd-09b9-4086-b4be-56d03f4c451b",
   "metadata": {},
   "outputs": [],
   "source": [
    "tmp = Rrs[idx_r,idx_c,:].copy()"
   ]
  },
  {
   "cell_type": "code",
   "execution_count": 75,
   "id": "edeaabe2-7da9-4744-b346-3bdc11839885",
   "metadata": {},
   "outputs": [
    {
     "data": {
      "text/plain": [
       "<KeysViewHDF5 ['_Netcdf4Coordinates', 'long_name', 'scale_factor', 'add_offset', 'units', 'standard_name', '_FillValue', 'valid_min', 'valid_max', 'DIMENSION_LIST']>"
      ]
     },
     "execution_count": 75,
     "metadata": {},
     "output_type": "execute_result"
    }
   ],
   "source": [
    "t.attrs.keys()"
   ]
  },
  {
   "cell_type": "code",
   "execution_count": 79,
   "id": "aaba8827-1c15-4694-a080-58c37f8f01bf",
   "metadata": {},
   "outputs": [
    {
     "data": {
      "text/plain": [
       "{'_Netcdf4Coordinates': array([0, 1, 8], dtype=int32),\n",
       " 'long_name': b'Remote sensing reflectance',\n",
       " 'scale_factor': array([2.e-06], dtype=float32),\n",
       " 'add_offset': array([0.05], dtype=float32),\n",
       " 'units': b'sr^-1',\n",
       " 'standard_name': b'surface_ratio_of_upwelling_radiance_emerging_from_sea_water_to_downwelling_radiative_flux_in_air',\n",
       " '_FillValue': array([-32767], dtype=int16),\n",
       " 'valid_min': array([-30000], dtype=int16),\n",
       " 'valid_max': array([25000], dtype=int16),\n",
       " 'DIMENSION_LIST': array([array([<HDF5 object reference>], dtype=object),\n",
       "        array([<HDF5 object reference>], dtype=object),\n",
       "        array([<HDF5 object reference>], dtype=object)], dtype=object)}"
      ]
     },
     "execution_count": 79,
     "metadata": {},
     "output_type": "execute_result"
    }
   ],
   "source": [
    "dict(t.attrs)"
   ]
  },
  {
   "cell_type": "code",
   "execution_count": 80,
   "id": "a9b12c82-b8b5-4f4d-8e19-776560abcdb2",
   "metadata": {},
   "outputs": [
    {
     "ename": "SyntaxError",
     "evalue": "unterminated string literal (detected at line 2) (3849474408.py, line 2)",
     "output_type": "error",
     "traceback": [
      "\u001b[0;36m  Cell \u001b[0;32mIn[80], line 2\u001b[0;36m\u001b[0m\n\u001b[0;31m    return (inp-attrs['valid_min'])*attrs['scale_factor\u001b[0m\n\u001b[0m                                          ^\u001b[0m\n\u001b[0;31mSyntaxError\u001b[0m\u001b[0;31m:\u001b[0m unterminated string literal (detected at line 2)\n"
     ]
    }
   ],
   "source": []
  },
  {
   "cell_type": "code",
   "execution_count": 81,
   "id": "85fb8381-fda1-4862-95a6-5b14821f67ad",
   "metadata": {},
   "outputs": [
    {
     "data": {
      "text/plain": [
       "0.06"
      ]
     },
     "execution_count": 81,
     "metadata": {},
     "output_type": "execute_result"
    }
   ],
   "source": [
    "30000*2e-6"
   ]
  },
  {
   "cell_type": "code",
   "execution_count": 83,
   "id": "e1717b03-c97d-4561-af12-ed852dc946cc",
   "metadata": {},
   "outputs": [
    {
     "data": {
      "text/plain": [
       "-13619"
      ]
     },
     "execution_count": 83,
     "metadata": {},
     "output_type": "execute_result"
    }
   ],
   "source": [
    "tmp[0]"
   ]
  },
  {
   "cell_type": "code",
   "execution_count": 25,
   "id": "dd650a5c-85e6-4491-99d0-fb2f44fe75eb",
   "metadata": {},
   "outputs": [
    {
     "data": {
      "text/plain": [
       "array([-0.01], dtype=float32)"
      ]
     },
     "execution_count": 25,
     "metadata": {},
     "output_type": "execute_result"
    }
   ],
   "source": [
    "calc_Rrs(-30000, Rattrs)"
   ]
  },
  {
   "cell_type": "markdown",
   "id": "e85e4ffc-eaff-48f5-be2e-bb5601168b21",
   "metadata": {},
   "source": [
    "## xds"
   ]
  },
  {
   "cell_type": "code",
   "execution_count": 43,
   "id": "6226b5e4-e2da-465e-8d36-7fdfe37f9b37",
   "metadata": {},
   "outputs": [
    {
     "data": {
      "text/html": [
       "<div><svg style=\"position: absolute; width: 0; height: 0; overflow: hidden\">\n",
       "<defs>\n",
       "<symbol id=\"icon-database\" viewBox=\"0 0 32 32\">\n",
       "<path d=\"M16 0c-8.837 0-16 2.239-16 5v4c0 2.761 7.163 5 16 5s16-2.239 16-5v-4c0-2.761-7.163-5-16-5z\"></path>\n",
       "<path d=\"M16 17c-8.837 0-16-2.239-16-5v6c0 2.761 7.163 5 16 5s16-2.239 16-5v-6c0 2.761-7.163 5-16 5z\"></path>\n",
       "<path d=\"M16 26c-8.837 0-16-2.239-16-5v6c0 2.761 7.163 5 16 5s16-2.239 16-5v-6c0 2.761-7.163 5-16 5z\"></path>\n",
       "</symbol>\n",
       "<symbol id=\"icon-file-text2\" viewBox=\"0 0 32 32\">\n",
       "<path d=\"M28.681 7.159c-0.694-0.947-1.662-2.053-2.724-3.116s-2.169-2.030-3.116-2.724c-1.612-1.182-2.393-1.319-2.841-1.319h-15.5c-1.378 0-2.5 1.121-2.5 2.5v27c0 1.378 1.122 2.5 2.5 2.5h23c1.378 0 2.5-1.122 2.5-2.5v-19.5c0-0.448-0.137-1.23-1.319-2.841zM24.543 5.457c0.959 0.959 1.712 1.825 2.268 2.543h-4.811v-4.811c0.718 0.556 1.584 1.309 2.543 2.268zM28 29.5c0 0.271-0.229 0.5-0.5 0.5h-23c-0.271 0-0.5-0.229-0.5-0.5v-27c0-0.271 0.229-0.5 0.5-0.5 0 0 15.499-0 15.5 0v7c0 0.552 0.448 1 1 1h7v19.5z\"></path>\n",
       "<path d=\"M23 26h-14c-0.552 0-1-0.448-1-1s0.448-1 1-1h14c0.552 0 1 0.448 1 1s-0.448 1-1 1z\"></path>\n",
       "<path d=\"M23 22h-14c-0.552 0-1-0.448-1-1s0.448-1 1-1h14c0.552 0 1 0.448 1 1s-0.448 1-1 1z\"></path>\n",
       "<path d=\"M23 18h-14c-0.552 0-1-0.448-1-1s0.448-1 1-1h14c0.552 0 1 0.448 1 1s-0.448 1-1 1z\"></path>\n",
       "</symbol>\n",
       "</defs>\n",
       "</svg>\n",
       "<style>/* CSS stylesheet for displaying xarray objects in jupyterlab.\n",
       " *\n",
       " */\n",
       "\n",
       ":root {\n",
       "  --xr-font-color0: var(--jp-content-font-color0, rgba(0, 0, 0, 1));\n",
       "  --xr-font-color2: var(--jp-content-font-color2, rgba(0, 0, 0, 0.54));\n",
       "  --xr-font-color3: var(--jp-content-font-color3, rgba(0, 0, 0, 0.38));\n",
       "  --xr-border-color: var(--jp-border-color2, #e0e0e0);\n",
       "  --xr-disabled-color: var(--jp-layout-color3, #bdbdbd);\n",
       "  --xr-background-color: var(--jp-layout-color0, white);\n",
       "  --xr-background-color-row-even: var(--jp-layout-color1, white);\n",
       "  --xr-background-color-row-odd: var(--jp-layout-color2, #eeeeee);\n",
       "}\n",
       "\n",
       "html[theme=dark],\n",
       "body[data-theme=dark],\n",
       "body.vscode-dark {\n",
       "  --xr-font-color0: rgba(255, 255, 255, 1);\n",
       "  --xr-font-color2: rgba(255, 255, 255, 0.54);\n",
       "  --xr-font-color3: rgba(255, 255, 255, 0.38);\n",
       "  --xr-border-color: #1F1F1F;\n",
       "  --xr-disabled-color: #515151;\n",
       "  --xr-background-color: #111111;\n",
       "  --xr-background-color-row-even: #111111;\n",
       "  --xr-background-color-row-odd: #313131;\n",
       "}\n",
       "\n",
       ".xr-wrap {\n",
       "  display: block !important;\n",
       "  min-width: 300px;\n",
       "  max-width: 700px;\n",
       "}\n",
       "\n",
       ".xr-text-repr-fallback {\n",
       "  /* fallback to plain text repr when CSS is not injected (untrusted notebook) */\n",
       "  display: none;\n",
       "}\n",
       "\n",
       ".xr-header {\n",
       "  padding-top: 6px;\n",
       "  padding-bottom: 6px;\n",
       "  margin-bottom: 4px;\n",
       "  border-bottom: solid 1px var(--xr-border-color);\n",
       "}\n",
       "\n",
       ".xr-header > div,\n",
       ".xr-header > ul {\n",
       "  display: inline;\n",
       "  margin-top: 0;\n",
       "  margin-bottom: 0;\n",
       "}\n",
       "\n",
       ".xr-obj-type,\n",
       ".xr-array-name {\n",
       "  margin-left: 2px;\n",
       "  margin-right: 10px;\n",
       "}\n",
       "\n",
       ".xr-obj-type {\n",
       "  color: var(--xr-font-color2);\n",
       "}\n",
       "\n",
       ".xr-sections {\n",
       "  padding-left: 0 !important;\n",
       "  display: grid;\n",
       "  grid-template-columns: 150px auto auto 1fr 20px 20px;\n",
       "}\n",
       "\n",
       ".xr-section-item {\n",
       "  display: contents;\n",
       "}\n",
       "\n",
       ".xr-section-item input {\n",
       "  display: none;\n",
       "}\n",
       "\n",
       ".xr-section-item input + label {\n",
       "  color: var(--xr-disabled-color);\n",
       "}\n",
       "\n",
       ".xr-section-item input:enabled + label {\n",
       "  cursor: pointer;\n",
       "  color: var(--xr-font-color2);\n",
       "}\n",
       "\n",
       ".xr-section-item input:enabled + label:hover {\n",
       "  color: var(--xr-font-color0);\n",
       "}\n",
       "\n",
       ".xr-section-summary {\n",
       "  grid-column: 1;\n",
       "  color: var(--xr-font-color2);\n",
       "  font-weight: 500;\n",
       "}\n",
       "\n",
       ".xr-section-summary > span {\n",
       "  display: inline-block;\n",
       "  padding-left: 0.5em;\n",
       "}\n",
       "\n",
       ".xr-section-summary-in:disabled + label {\n",
       "  color: var(--xr-font-color2);\n",
       "}\n",
       "\n",
       ".xr-section-summary-in + label:before {\n",
       "  display: inline-block;\n",
       "  content: '►';\n",
       "  font-size: 11px;\n",
       "  width: 15px;\n",
       "  text-align: center;\n",
       "}\n",
       "\n",
       ".xr-section-summary-in:disabled + label:before {\n",
       "  color: var(--xr-disabled-color);\n",
       "}\n",
       "\n",
       ".xr-section-summary-in:checked + label:before {\n",
       "  content: '▼';\n",
       "}\n",
       "\n",
       ".xr-section-summary-in:checked + label > span {\n",
       "  display: none;\n",
       "}\n",
       "\n",
       ".xr-section-summary,\n",
       ".xr-section-inline-details {\n",
       "  padding-top: 4px;\n",
       "  padding-bottom: 4px;\n",
       "}\n",
       "\n",
       ".xr-section-inline-details {\n",
       "  grid-column: 2 / -1;\n",
       "}\n",
       "\n",
       ".xr-section-details {\n",
       "  display: none;\n",
       "  grid-column: 1 / -1;\n",
       "  margin-bottom: 5px;\n",
       "}\n",
       "\n",
       ".xr-section-summary-in:checked ~ .xr-section-details {\n",
       "  display: contents;\n",
       "}\n",
       "\n",
       ".xr-array-wrap {\n",
       "  grid-column: 1 / -1;\n",
       "  display: grid;\n",
       "  grid-template-columns: 20px auto;\n",
       "}\n",
       "\n",
       ".xr-array-wrap > label {\n",
       "  grid-column: 1;\n",
       "  vertical-align: top;\n",
       "}\n",
       "\n",
       ".xr-preview {\n",
       "  color: var(--xr-font-color3);\n",
       "}\n",
       "\n",
       ".xr-array-preview,\n",
       ".xr-array-data {\n",
       "  padding: 0 5px !important;\n",
       "  grid-column: 2;\n",
       "}\n",
       "\n",
       ".xr-array-data,\n",
       ".xr-array-in:checked ~ .xr-array-preview {\n",
       "  display: none;\n",
       "}\n",
       "\n",
       ".xr-array-in:checked ~ .xr-array-data,\n",
       ".xr-array-preview {\n",
       "  display: inline-block;\n",
       "}\n",
       "\n",
       ".xr-dim-list {\n",
       "  display: inline-block !important;\n",
       "  list-style: none;\n",
       "  padding: 0 !important;\n",
       "  margin: 0;\n",
       "}\n",
       "\n",
       ".xr-dim-list li {\n",
       "  display: inline-block;\n",
       "  padding: 0;\n",
       "  margin: 0;\n",
       "}\n",
       "\n",
       ".xr-dim-list:before {\n",
       "  content: '(';\n",
       "}\n",
       "\n",
       ".xr-dim-list:after {\n",
       "  content: ')';\n",
       "}\n",
       "\n",
       ".xr-dim-list li:not(:last-child):after {\n",
       "  content: ',';\n",
       "  padding-right: 5px;\n",
       "}\n",
       "\n",
       ".xr-has-index {\n",
       "  font-weight: bold;\n",
       "}\n",
       "\n",
       ".xr-var-list,\n",
       ".xr-var-item {\n",
       "  display: contents;\n",
       "}\n",
       "\n",
       ".xr-var-item > div,\n",
       ".xr-var-item label,\n",
       ".xr-var-item > .xr-var-name span {\n",
       "  background-color: var(--xr-background-color-row-even);\n",
       "  margin-bottom: 0;\n",
       "}\n",
       "\n",
       ".xr-var-item > .xr-var-name:hover span {\n",
       "  padding-right: 5px;\n",
       "}\n",
       "\n",
       ".xr-var-list > li:nth-child(odd) > div,\n",
       ".xr-var-list > li:nth-child(odd) > label,\n",
       ".xr-var-list > li:nth-child(odd) > .xr-var-name span {\n",
       "  background-color: var(--xr-background-color-row-odd);\n",
       "}\n",
       "\n",
       ".xr-var-name {\n",
       "  grid-column: 1;\n",
       "}\n",
       "\n",
       ".xr-var-dims {\n",
       "  grid-column: 2;\n",
       "}\n",
       "\n",
       ".xr-var-dtype {\n",
       "  grid-column: 3;\n",
       "  text-align: right;\n",
       "  color: var(--xr-font-color2);\n",
       "}\n",
       "\n",
       ".xr-var-preview {\n",
       "  grid-column: 4;\n",
       "}\n",
       "\n",
       ".xr-index-preview {\n",
       "  grid-column: 2 / 5;\n",
       "  color: var(--xr-font-color2);\n",
       "}\n",
       "\n",
       ".xr-var-name,\n",
       ".xr-var-dims,\n",
       ".xr-var-dtype,\n",
       ".xr-preview,\n",
       ".xr-attrs dt {\n",
       "  white-space: nowrap;\n",
       "  overflow: hidden;\n",
       "  text-overflow: ellipsis;\n",
       "  padding-right: 10px;\n",
       "}\n",
       "\n",
       ".xr-var-name:hover,\n",
       ".xr-var-dims:hover,\n",
       ".xr-var-dtype:hover,\n",
       ".xr-attrs dt:hover {\n",
       "  overflow: visible;\n",
       "  width: auto;\n",
       "  z-index: 1;\n",
       "}\n",
       "\n",
       ".xr-var-attrs,\n",
       ".xr-var-data,\n",
       ".xr-index-data {\n",
       "  display: none;\n",
       "  background-color: var(--xr-background-color) !important;\n",
       "  padding-bottom: 5px !important;\n",
       "}\n",
       "\n",
       ".xr-var-attrs-in:checked ~ .xr-var-attrs,\n",
       ".xr-var-data-in:checked ~ .xr-var-data,\n",
       ".xr-index-data-in:checked ~ .xr-index-data {\n",
       "  display: block;\n",
       "}\n",
       "\n",
       ".xr-var-data > table {\n",
       "  float: right;\n",
       "}\n",
       "\n",
       ".xr-var-name span,\n",
       ".xr-var-data,\n",
       ".xr-index-name div,\n",
       ".xr-index-data,\n",
       ".xr-attrs {\n",
       "  padding-left: 25px !important;\n",
       "}\n",
       "\n",
       ".xr-attrs,\n",
       ".xr-var-attrs,\n",
       ".xr-var-data,\n",
       ".xr-index-data {\n",
       "  grid-column: 1 / -1;\n",
       "}\n",
       "\n",
       "dl.xr-attrs {\n",
       "  padding: 0;\n",
       "  margin: 0;\n",
       "  display: grid;\n",
       "  grid-template-columns: 125px auto;\n",
       "}\n",
       "\n",
       ".xr-attrs dt,\n",
       ".xr-attrs dd {\n",
       "  padding: 0;\n",
       "  margin: 0;\n",
       "  float: left;\n",
       "  padding-right: 10px;\n",
       "  width: auto;\n",
       "}\n",
       "\n",
       ".xr-attrs dt {\n",
       "  font-weight: normal;\n",
       "  grid-column: 1;\n",
       "}\n",
       "\n",
       ".xr-attrs dt:hover span {\n",
       "  display: inline-block;\n",
       "  background: var(--xr-background-color);\n",
       "  padding-right: 10px;\n",
       "}\n",
       "\n",
       ".xr-attrs dd {\n",
       "  grid-column: 2;\n",
       "  white-space: pre-wrap;\n",
       "  word-break: break-all;\n",
       "}\n",
       "\n",
       ".xr-icon-database,\n",
       ".xr-icon-file-text2,\n",
       ".xr-no-icon {\n",
       "  display: inline-block;\n",
       "  vertical-align: middle;\n",
       "  width: 1em;\n",
       "  height: 1.5em !important;\n",
       "  stroke-width: 0;\n",
       "  stroke: currentColor;\n",
       "  fill: currentColor;\n",
       "}\n",
       "</style><pre class='xr-text-repr-fallback'>&lt;xarray.DataArray &#x27;wavelength&#x27; (wl: 184)&gt;\n",
       "array([339, 341, 344, 346, 348, 351, 353, 356, 358, 361, 363, 366, 368,\n",
       "       371, 373, 375, 378, 380, 383, 385, 388, 390, 393, 395, 398, 400,\n",
       "       403, 405, 408, 410, 413, 415, 418, 420, 422, 425, 427, 430, 432,\n",
       "       435, 437, 440, 442, 445, 447, 450, 452, 455, 457, 460, 462, 465,\n",
       "       467, 470, 472, 475, 477, 480, 482, 485, 487, 490, 492, 495, 497,\n",
       "       500, 502, 505, 507, 510, 512, 515, 517, 520, 522, 525, 527, 530,\n",
       "       532, 535, 537, 540, 542, 545, 547, 550, 553, 555, 558, 560, 563,\n",
       "       565, 568, 570, 573, 575, 578, 580, 583, 586, 588, 591, 593, 596,\n",
       "       598, 601, 603, 605, 608, 610, 613, 615, 618, 620, 623, 625, 627,\n",
       "       630, 632, 635, 637, 640, 641, 642, 643, 645, 646, 647, 648, 650,\n",
       "       651, 652, 653, 655, 656, 657, 658, 660, 661, 662, 663, 665, 666,\n",
       "       667, 668, 670, 671, 672, 673, 675, 676, 677, 678, 679, 681, 682,\n",
       "       683, 684, 686, 687, 688, 689, 691, 692, 693, 694, 696, 697, 698,\n",
       "       699, 701, 702, 703, 704, 706, 707, 708, 709, 711, 712, 713, 714,\n",
       "       717, 719], dtype=int32)\n",
       "Coordinates:\n",
       "    wavelength  (wl) int32 339 341 344 346 348 351 ... 711 712 713 714 717 719\n",
       "Dimensions without coordinates: wl</pre><div class='xr-wrap' style='display:none'><div class='xr-header'><div class='xr-obj-type'>xarray.DataArray</div><div class='xr-array-name'>'wavelength'</div><ul class='xr-dim-list'><li><span>wl</span>: 184</li></ul></div><ul class='xr-sections'><li class='xr-section-item'><div class='xr-array-wrap'><input id='section-df30d9d7-c1b5-4c53-b972-fa385f4be503' class='xr-array-in' type='checkbox' checked><label for='section-df30d9d7-c1b5-4c53-b972-fa385f4be503' title='Show/hide data repr'><svg class='icon xr-icon-database'><use xlink:href='#icon-database'></use></svg></label><div class='xr-array-preview xr-preview'><span>339 341 344 346 348 351 353 356 ... 708 709 711 712 713 714 717 719</span></div><div class='xr-array-data'><pre>array([339, 341, 344, 346, 348, 351, 353, 356, 358, 361, 363, 366, 368,\n",
       "       371, 373, 375, 378, 380, 383, 385, 388, 390, 393, 395, 398, 400,\n",
       "       403, 405, 408, 410, 413, 415, 418, 420, 422, 425, 427, 430, 432,\n",
       "       435, 437, 440, 442, 445, 447, 450, 452, 455, 457, 460, 462, 465,\n",
       "       467, 470, 472, 475, 477, 480, 482, 485, 487, 490, 492, 495, 497,\n",
       "       500, 502, 505, 507, 510, 512, 515, 517, 520, 522, 525, 527, 530,\n",
       "       532, 535, 537, 540, 542, 545, 547, 550, 553, 555, 558, 560, 563,\n",
       "       565, 568, 570, 573, 575, 578, 580, 583, 586, 588, 591, 593, 596,\n",
       "       598, 601, 603, 605, 608, 610, 613, 615, 618, 620, 623, 625, 627,\n",
       "       630, 632, 635, 637, 640, 641, 642, 643, 645, 646, 647, 648, 650,\n",
       "       651, 652, 653, 655, 656, 657, 658, 660, 661, 662, 663, 665, 666,\n",
       "       667, 668, 670, 671, 672, 673, 675, 676, 677, 678, 679, 681, 682,\n",
       "       683, 684, 686, 687, 688, 689, 691, 692, 693, 694, 696, 697, 698,\n",
       "       699, 701, 702, 703, 704, 706, 707, 708, 709, 711, 712, 713, 714,\n",
       "       717, 719], dtype=int32)</pre></div></div></li><li class='xr-section-item'><input id='section-fa11c7cc-1f67-4877-b3c9-a2bf3b58f9b5' class='xr-section-summary-in' type='checkbox'  checked><label for='section-fa11c7cc-1f67-4877-b3c9-a2bf3b58f9b5' class='xr-section-summary' >Coordinates: <span>(1)</span></label><div class='xr-section-inline-details'></div><div class='xr-section-details'><ul class='xr-var-list'><li class='xr-var-item'><div class='xr-var-name'><span>wavelength</span></div><div class='xr-var-dims'>(wl)</div><div class='xr-var-dtype'>int32</div><div class='xr-var-preview xr-preview'>339 341 344 346 ... 713 714 717 719</div><input id='attrs-c454cef7-afc2-4d0f-8904-e631eb5a331a' class='xr-var-attrs-in' type='checkbox' disabled><label for='attrs-c454cef7-afc2-4d0f-8904-e631eb5a331a' title='Show/Hide attributes'><svg class='icon xr-icon-file-text2'><use xlink:href='#icon-file-text2'></use></svg></label><input id='data-f3a873a6-d503-46af-9cbd-cacf4bc58327' class='xr-var-data-in' type='checkbox'><label for='data-f3a873a6-d503-46af-9cbd-cacf4bc58327' title='Show/Hide data repr'><svg class='icon xr-icon-database'><use xlink:href='#icon-database'></use></svg></label><div class='xr-var-attrs'><dl class='xr-attrs'></dl></div><div class='xr-var-data'><pre>array([339, 341, 344, 346, 348, 351, 353, 356, 358, 361, 363, 366, 368,\n",
       "       371, 373, 375, 378, 380, 383, 385, 388, 390, 393, 395, 398, 400,\n",
       "       403, 405, 408, 410, 413, 415, 418, 420, 422, 425, 427, 430, 432,\n",
       "       435, 437, 440, 442, 445, 447, 450, 452, 455, 457, 460, 462, 465,\n",
       "       467, 470, 472, 475, 477, 480, 482, 485, 487, 490, 492, 495, 497,\n",
       "       500, 502, 505, 507, 510, 512, 515, 517, 520, 522, 525, 527, 530,\n",
       "       532, 535, 537, 540, 542, 545, 547, 550, 553, 555, 558, 560, 563,\n",
       "       565, 568, 570, 573, 575, 578, 580, 583, 586, 588, 591, 593, 596,\n",
       "       598, 601, 603, 605, 608, 610, 613, 615, 618, 620, 623, 625, 627,\n",
       "       630, 632, 635, 637, 640, 641, 642, 643, 645, 646, 647, 648, 650,\n",
       "       651, 652, 653, 655, 656, 657, 658, 660, 661, 662, 663, 665, 666,\n",
       "       667, 668, 670, 671, 672, 673, 675, 676, 677, 678, 679, 681, 682,\n",
       "       683, 684, 686, 687, 688, 689, 691, 692, 693, 694, 696, 697, 698,\n",
       "       699, 701, 702, 703, 704, 706, 707, 708, 709, 711, 712, 713, 714,\n",
       "       717, 719], dtype=int32)</pre></div></li></ul></div></li><li class='xr-section-item'><input id='section-312856ad-ff4b-4b74-bce6-3b17d2439fbe' class='xr-section-summary-in' type='checkbox' disabled ><label for='section-312856ad-ff4b-4b74-bce6-3b17d2439fbe' class='xr-section-summary'  title='Expand/collapse section'>Indexes: <span>(0)</span></label><div class='xr-section-inline-details'></div><div class='xr-section-details'><ul class='xr-var-list'></ul></div></li><li class='xr-section-item'><input id='section-2f15ef39-d914-4c52-afd6-fbfb588ddb78' class='xr-section-summary-in' type='checkbox' disabled ><label for='section-2f15ef39-d914-4c52-afd6-fbfb588ddb78' class='xr-section-summary'  title='Expand/collapse section'>Attributes: <span>(0)</span></label><div class='xr-section-inline-details'></div><div class='xr-section-details'><dl class='xr-attrs'></dl></div></li></ul></div></div>"
      ],
      "text/plain": [
       "<xarray.DataArray 'wavelength' (wl: 184)>\n",
       "array([339, 341, 344, 346, 348, 351, 353, 356, 358, 361, 363, 366, 368,\n",
       "       371, 373, 375, 378, 380, 383, 385, 388, 390, 393, 395, 398, 400,\n",
       "       403, 405, 408, 410, 413, 415, 418, 420, 422, 425, 427, 430, 432,\n",
       "       435, 437, 440, 442, 445, 447, 450, 452, 455, 457, 460, 462, 465,\n",
       "       467, 470, 472, 475, 477, 480, 482, 485, 487, 490, 492, 495, 497,\n",
       "       500, 502, 505, 507, 510, 512, 515, 517, 520, 522, 525, 527, 530,\n",
       "       532, 535, 537, 540, 542, 545, 547, 550, 553, 555, 558, 560, 563,\n",
       "       565, 568, 570, 573, 575, 578, 580, 583, 586, 588, 591, 593, 596,\n",
       "       598, 601, 603, 605, 608, 610, 613, 615, 618, 620, 623, 625, 627,\n",
       "       630, 632, 635, 637, 640, 641, 642, 643, 645, 646, 647, 648, 650,\n",
       "       651, 652, 653, 655, 656, 657, 658, 660, 661, 662, 663, 665, 666,\n",
       "       667, 668, 670, 671, 672, 673, 675, 676, 677, 678, 679, 681, 682,\n",
       "       683, 684, 686, 687, 688, 689, 691, 692, 693, 694, 696, 697, 698,\n",
       "       699, 701, 702, 703, 704, 706, 707, 708, 709, 711, 712, 713, 714,\n",
       "       717, 719], dtype=int32)\n",
       "Coordinates:\n",
       "    wavelength  (wl) int32 339 341 344 346 348 351 ... 711 712 713 714 717 719\n",
       "Dimensions without coordinates: wl"
      ]
     },
     "execution_count": 43,
     "metadata": {},
     "output_type": "execute_result"
    }
   ],
   "source": [
    "xds.wavelength"
   ]
  },
  {
   "cell_type": "code",
   "execution_count": 44,
   "id": "ad6c5c1d-34ad-4f5d-84f2-9fedacdfbced",
   "metadata": {},
   "outputs": [
    {
     "data": {
      "text/plain": [
       "2.0652173913043477"
      ]
     },
     "execution_count": 44,
     "metadata": {},
     "output_type": "execute_result"
    }
   ],
   "source": [
    "(719-339)/184"
   ]
  },
  {
   "cell_type": "code",
   "execution_count": null,
   "id": "26a8a44e-9676-4e11-9d72-529dcaedf12a",
   "metadata": {},
   "outputs": [],
   "source": []
  }
 ],
 "metadata": {
  "kernelspec": {
   "display_name": "Python 3 (ipykernel)",
   "language": "python",
   "name": "python3"
  },
  "language_info": {
   "codemirror_mode": {
    "name": "ipython",
    "version": 3
   },
   "file_extension": ".py",
   "mimetype": "text/x-python",
   "name": "python",
   "nbconvert_exporter": "python",
   "pygments_lexer": "ipython3",
   "version": "3.11.6"
  }
 },
 "nbformat": 4,
 "nbformat_minor": 5
}
